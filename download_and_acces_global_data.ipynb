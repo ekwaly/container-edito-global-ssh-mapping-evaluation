{
 "cells": [
  {
   "cell_type": "markdown",
   "id": "2c6ff2e1",
   "metadata": {},
   "source": [
    "# Access data\n",
    "\n",
    "<div style=\"text-align: right\"><i> 2023-06-13 ACCESS_DATA </i></div>\n",
    "\n",
    "***\n",
    "**Authors:**  CLS & Datlas <br>\n",
    "**Copyright:** 2023 CLS & Datlas <br>\n",
    "**License:** MIT\n",
    "\n",
    "<div class=\"alert alert-block alert-success\">\n",
    "<h1><center>Access the data challenge necessary data</center></h1>\n",
    "<h5> The notebook aims to illustrate how to download and read the various necessary data to reconstruct maps (experiment), to evaluate the maps performances (evaluation) and to compare with other reconstructions (comparison). </h5> \n",
    "</div>"
   ]
  },
  {
   "cell_type": "markdown",
   "id": "07fa836b",
   "metadata": {},
   "source": [
    "\n",
    "<div class=\"alert alert-danger\" role=\"alert\">\n",
    "\n",
    "<h3><center> Warning: To run this notebook you will need a free disk space of approximately 33Go.</center></h3>\n",
    " \n",
    "    "
   ]
  },
  {
   "cell_type": "markdown",
   "id": "a7a679d0",
   "metadata": {
    "editable": true,
    "slideshow": {
     "slide_type": ""
    },
    "tags": []
   },
   "source": [
    "***\n",
    "**General Note 1**: Execute each cell through the <button class=\"btn btn-default btn-xs\"><i class=\"icon-play fa fa-play\"></i></button> button from the top MENU (or keyboard shortcut `Shift` + `Enter`).<br>\n",
    "<br>\n",
    "**General Note 2**: If, for any reason, the kernel is not working anymore, in the top MENU, click on the <button class=\"btn btn-default btn-xs\"><i class=\"fa fa-repeat icon-repeat\"></i></button> button. Then, in the top MENU, click on \"Cell\" and select \"Run All Above Selected Cell\".<br>\n",
    "***\n",
    "\n",
    "\n",
    "<div class=\"alert alert-danger\" role=\"alert\">\n",
    "\n",
    "<h3>Learning outcomes</h3>\n",
    "\n",
    "At the end of this notebook you will know:\n",
    "<ul>\n",
    "  <li>How you can download and read all the necessary data for this data challenge.</li>\n",
    "</ul>\n",
    "    \n",
    "</div>"
   ]
  },
  {
   "cell_type": "code",
   "id": "54a7fb32b20bcebf",
   "metadata": {
    "editable": true,
    "slideshow": {
     "slide_type": ""
    },
    "tags": []
   },
   "source": [
    "import os\n",
    "import sys\n",
    "\n",
    "from thredds_crawler.crawl import Crawl"
   ],
   "outputs": [],
   "execution_count": null
  },
  {
   "metadata": {},
   "cell_type": "code",
   "source": [
    "# Parameters\n",
    "method = \"\"\n",
    "url = \"\"\n",
    "storage_dir = \"./\"\n",
    "clean_after_extraction = true"
   ],
   "id": "eef3975a317286ce",
   "outputs": [],
   "execution_count": null
  },
  {
   "metadata": {},
   "cell_type": "code",
   "source": [
    "data_dir = os.path.join(storage_dir, \"data_extracted\")\n",
    "download_dir = os.path.join(storage_dir, \"data_downloaded\")\n",
    "\n",
    "if not os.path.exists(data_dir):\n",
    "    os.makedirs(data_dir)\n",
    "    \n",
    "if not os.path.exists(download_dir):\n",
    "    os.makedirs(download_dir)"
   ],
   "id": "d4327120",
   "outputs": [],
   "execution_count": null
  },
  {
   "cell_type": "markdown",
   "id": "d2c995f0",
   "metadata": {
    "editable": true,
    "slideshow": {
     "slide_type": ""
    },
    "tags": []
   },
   "source": [
    "## Data for evaluation\n",
    "### Download the independant alongtrack nadir data (Saral/AltiKa)"
   ]
  },
  {
   "cell_type": "code",
   "id": "4c1e52d65b082cd",
   "metadata": {
    "editable": true,
    "scrolled": true,
    "slideshow": {
     "slide_type": ""
    },
    "tags": []
   },
   "source": [
    "ind_track_dir_name = \"ind_track\"\n",
    "ind_track_dir = os.path.join(data_dir, ind_track_dir_name)\n",
    "ind_track_archive_name = ind_track_dir_name + \".tar.gz\"\n",
    "ind_track_archive = os.path.join(download_dir, ind_track_archive_name)\n",
    "ind_track_archive_url = \"https://ige-meom-opendap.univ-grenoble-alpes.fr/thredds/fileServer/meomopendap/extract/MEOM/OCEAN_DATA_CHALLENGES/2023a_SSH_mapping_OSE/independent_alongtrack.tar.gz\"\n",
    "\n",
    "if not os.path.exists(ind_track_archive):\n",
    "    !wget {ind_track_archive_url} -O {ind_track_archive} \n",
    "\n",
    "if not os.path.exists(ind_track_dir):\n",
    "    os.makedirs(ind_track_dir)\n",
    "\n",
    "if len(os.listdir(ind_track_dir)) == 0:\n",
    "    !tar -xf {ind_track_archive} --one-top-level={ind_track_dir} --strip-components 1\n",
    "    \n",
    "if clean_after_extraction:\n",
    "    os.remove(ind_track_archive)"
   ],
   "outputs": [],
   "execution_count": null
  },
  {
   "metadata": {},
   "cell_type": "markdown",
   "source": "### Download the independant drifter data",
   "id": "d9b9c1549b972a46"
  },
  {
   "cell_type": "code",
   "id": "624efa77-e845-491b-90e4-e113d3bf609d",
   "metadata": {},
   "source": [
    "ind_drift_dir_name = \"ind_drift\"\n",
    "ind_drift_dir = os.path.join(data_dir, ind_drift_dir_name)\n",
    "ind_drift_catalog_url = \"https://ige-meom-opendap.univ-grenoble-alpes.fr/thredds/catalog/meomopendap/extract/MEOM/OCEAN_DATA_CHALLENGES/2023a_SSH_mapping_OSE/independent_drifters/catalog.xml\"\n",
    "\n",
    "if not os.path.exists(ind_drift_dir):\n",
    "    os.makedirs(ind_drift_dir)\n",
    "\n",
    "if len(os.listdir(ind_drift_dir)) == 0:\n",
    "    c = Crawl(ind_drift_catalog_url, select=[\".*\\.nc\"])\n",
    "    data_urls = [s.get(\"url\") for d in c.datasets for s in d.services if s.get(\"service\").lower() == \"httpserver\"]\n",
    "    \n",
    "    for data_url in data_urls:\n",
    "        !wget {data_url} -P {ind_drift_dir}"
   ],
   "outputs": [],
   "execution_count": null
  },
  {
   "cell_type": "markdown",
   "id": "afddb610",
   "metadata": {},
   "source": "### Download sad data"
  },
  {
   "cell_type": "code",
   "id": "8fb9315a",
   "metadata": {},
   "source": [
    "sad_dir_name = \"sad\"\n",
    "sad_dir = os.path.join(data_dir, sad_dir_name)\n",
    "sad_archive_name = sad_dir_name + \".tar.gz\"\n",
    "sad_archive = os.path.join(download_dir, sad_archive_name)\n",
    "sad_archive_url = \"https://ige-meom-opendap.univ-grenoble-alpes.fr/thredds/fileServer/meomopendap/extract/MEOM/OCEAN_DATA_CHALLENGES/2023a_SSH_mapping_OSE/sad.tar.gz\"\n",
    "\n",
    "if not os.path.exists(sad_archive):\n",
    "    !wget {sad_archive_url} -O {sad_archive} \n",
    "\n",
    "if not os.path.exists(sad_dir):\n",
    "    os.makedirs(sad_dir)\n",
    "\n",
    "if len(os.listdir(sad_dir)) == 0:\n",
    "    !tar -xf {sad_archive} --one-top-level={sad_dir} --strip-components 1\n",
    "    \n",
    "if clean_after_extraction:\n",
    "    os.remove(sad_archive)"
   ],
   "outputs": [],
   "execution_count": null
  },
  {
   "metadata": {},
   "cell_type": "markdown",
   "source": [
    "## Data for comparison\n",
    "### Download map"
   ],
   "id": "8567a93e458d8fc6"
  },
  {
   "metadata": {},
   "cell_type": "code",
   "source": "!wget {url} -O {method + \".nc\"}",
   "id": "8f36c5c11cc577ca",
   "outputs": [],
   "execution_count": null
  }
 ],
 "metadata": {
  "kernelspec": {
   "display_name": "Python 3 (ipykernel)",
   "language": "python",
   "name": "python3"
  },
  "language_info": {
   "codemirror_mode": {
    "name": "ipython",
    "version": 3
   },
   "file_extension": ".py",
   "mimetype": "text/x-python",
   "name": "python",
   "nbconvert_exporter": "python",
   "pygments_lexer": "ipython3",
   "version": "3.10.14"
  }
 },
 "nbformat": 4,
 "nbformat_minor": 5
}

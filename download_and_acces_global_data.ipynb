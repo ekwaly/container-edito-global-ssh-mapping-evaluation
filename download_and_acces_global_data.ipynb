{
 "cells": [
  {
   "cell_type": "markdown",
   "id": "66df228b",
   "metadata": {
    "editable": true,
    "slideshow": {
     "slide_type": ""
    },
    "tags": []
   },
   "source": [
    "![header](../figures/logos_partenaires._cmems_se.jpg)"
   ]
  },
  {
   "cell_type": "code",
   "execution_count": null,
   "id": "8238b206-c3e2-4ffe-bea5-7bf7701c5bfd",
   "metadata": {
    "editable": true,
    "slideshow": {
     "slide_type": ""
    },
    "tags": [
     "parameters"
    ]
   },
   "outputs": [],
   "source": [
    "# Parameters\n",
    "method = \"default\"\n",
    "url = 'https://raw.githubusercontent.com/ocean-data-challenges/2023a_SSH_mapping_OSE/refs/heads/main/nb_download_data/download_and_acces_global_data.ipynb'\n",
    "dl_dir = '..'"
   ]
  },
  {
   "cell_type": "markdown",
   "id": "2c6ff2e1",
   "metadata": {},
   "source": [
    "# Access data\n",
    "\n",
    "<div style=\"text-align: right\"><i> 2023-06-13 ACCESS_DATA </i></div>\n",
    "\n",
    "***\n",
    "**Authors:**  CLS & Datlas <br>\n",
    "**Copyright:** 2023 CLS & Datlas <br>\n",
    "**License:** MIT\n",
    "\n",
    "<div class=\"alert alert-block alert-success\">\n",
    "<h1><center>Access the data challenge necessary data</center></h1>\n",
    "<h5> The notebook aims to illustrate how to download and read the various necessary data to reconstruct maps (experiment), to evaluate the maps performances (evaluation) and to compare with other reconstructions (comparison). </h5> \n",
    "</div>"
   ]
  },
  {
   "cell_type": "markdown",
   "id": "07fa836b",
   "metadata": {},
   "source": [
    "\n",
    "<div class=\"alert alert-danger\" role=\"alert\">\n",
    "\n",
    "<h3><center> Warning: To run this notebook you will need a free disk space of approximately 33Go.</center></h3>\n",
    " \n",
    "    "
   ]
  },
  {
   "cell_type": "markdown",
   "id": "a7a679d0",
   "metadata": {
    "editable": true,
    "slideshow": {
     "slide_type": ""
    },
    "tags": []
   },
   "source": [
    "***\n",
    "**General Note 1**: Execute each cell through the <button class=\"btn btn-default btn-xs\"><i class=\"icon-play fa fa-play\"></i></button> button from the top MENU (or keyboard shortcut `Shift` + `Enter`).<br>\n",
    "<br>\n",
    "**General Note 2**: If, for any reason, the kernel is not working anymore, in the top MENU, click on the <button class=\"btn btn-default btn-xs\"><i class=\"fa fa-repeat icon-repeat\"></i></button> button. Then, in the top MENU, click on \"Cell\" and select \"Run All Above Selected Cell\".<br>\n",
    "***\n",
    "\n",
    "\n",
    "<div class=\"alert alert-danger\" role=\"alert\">\n",
    "\n",
    "<h3>Learning outcomes</h3>\n",
    "\n",
    "At the end of this notebook you will know:\n",
    "<ul>\n",
    "  <li>How you can download and read all the necessary data for this data challenge.</li>\n",
    "</ul>\n",
    "    \n",
    "</div>"
   ]
  },
  {
   "cell_type": "code",
   "execution_count": null,
   "id": "aaaef830-9a58-4361-9252-d525a86a3e0b",
   "metadata": {},
   "outputs": [],
   "source": [
    "os.mkdir?"
   ]
  },
  {
   "cell_type": "code",
   "execution_count": null,
   "id": "d4327120",
   "metadata": {
    "editable": true,
    "slideshow": {
     "slide_type": ""
    },
    "tags": []
   },
   "outputs": [],
   "source": [
    "from glob import glob\n",
    "import numpy as np\n",
    "from src.mod_read import *\n",
    "import os\n",
    "import sys\n",
    "sys.path.append('../')\n",
    "os.environ['DATA_DIR'] = dl_dir + '/data'\n",
    "if not os.path.isdir(dl_dir + '/data'):\n",
    "    os.mkdir(dl_dir + '/data')\n",
    "import xarray as xr"
   ]
  },
  {
   "cell_type": "markdown",
   "id": "d2c995f0",
   "metadata": {
    "editable": true,
    "slideshow": {
     "slide_type": ""
    },
    "tags": []
   },
   "source": [
    "<div class=\"alert alert-info\" role=\"alert\">\n",
    "\n",
    "<h2>2. Data for evaluation</h2>\n",
    "\n",
    "</div>"
   ]
  },
  {
   "cell_type": "markdown",
   "id": "46fe8d3c",
   "metadata": {},
   "source": [
    "## Download the independant alongtrack nadir data (Saral/AltiKa)"
   ]
  },
  {
   "cell_type": "code",
   "execution_count": null,
   "id": "aed66cf7",
   "metadata": {
    "editable": true,
    "scrolled": true,
    "slideshow": {
     "slide_type": ""
    },
    "tags": []
   },
   "outputs": [],
   "source": [
    "if os.path.isdir(dl_dir + '/data/independent_alongtrack'):\n",
    "    print('Independant alongtrack data already exist locally in ../data/')\n",
    "else: \n",
    "\n",
    "    print('Downloading independant alongtrack data')\n",
    "    \n",
    "    # Download the alongtrack repository\n",
    "    !wget https://ige-meom-opendap.univ-grenoble-alpes.fr/thredds/fileServer/meomopendap/extract/MEOM/OCEAN_DATA_CHALLENGES/2023a_SSH_mapping_OSE/independent_alongtrack.tar.gz\n",
    "    \n",
    "    # Uncompress in ../data\n",
    "    !tar -xvf independent_alongtrack.tar.gz --directory $DATA_DIR\n",
    "    \n",
    "    # Remove compressed file\n",
    "    !rm -f independent_alongtrack.tar.gz \n",
    "    "
   ]
  },
  {
   "cell_type": "code",
   "execution_count": null,
   "id": "624efa77-e845-491b-90e4-e113d3bf609d",
   "metadata": {},
   "outputs": [],
   "source": [
    "%%time\n",
    "\n",
    "if os.path.isdir(dl_dir + '/data/independent_drifters0'):\n",
    "    print('Independant drifter data already exist locally in ../data/')\n",
    "else: \n",
    "    print('Downloading independent drifter data')\n",
    "    \n",
    "    path_catalog = \"https://ige-meom-opendap.univ-grenoble-alpes.fr/thredds/catalog/meomopendap/extract/MEOM/OCEAN_DATA_CHALLENGES/2023a_SSH_mapping_OSE/independent_drifters/catalog.html\" \n",
    "    path_data =    \"https://ige-meom-opendap.univ-grenoble-alpes.fr/thredds/fileServer/meomopendap/extract/MEOM/OCEAN_DATA_CHALLENGES/2023a_SSH_mapping_OSE/independent_drifters/\"\n",
    "\n",
    "\n",
    "    list_of_files = retrieve_list_of_files_from_url(path_catalog, path_data,None,False)\n",
    "\n",
    "    !mkdir ../data_dev/independant_drifters0\n",
    "\n",
    "    i = 0\n",
    "    for ifile in sorted(list_of_files)[:]:\n",
    "        print(ifile) \n",
    "        os.system(f\"wget -P {dl_dir}/data/independant_drifters0/ i {ifile}\")\n",
    "    "
   ]
  },
  {
   "cell_type": "markdown",
   "id": "afddb610",
   "metadata": {},
   "source": [
    "<div class=\"alert alert-info\" role=\"alert\">\n",
    "\n",
    "<h2>3. Data for comparison</h2>\n",
    "\n",
    "</div>"
   ]
  },
  {
   "cell_type": "markdown",
   "id": "a6378b72",
   "metadata": {
    "editable": true,
    "slideshow": {
     "slide_type": ""
    },
    "tags": []
   },
   "source": [
    "## Download map \n"
   ]
  },
  {
   "cell_type": "code",
   "execution_count": null,
   "id": "0b3e961b-a6dd-4767-8a80-4075c6b78381",
   "metadata": {
    "editable": true,
    "slideshow": {
     "slide_type": ""
    },
    "tags": []
   },
   "outputs": [],
   "source": [
    "\n",
    "print(f'Downloading maps data from {url}')\n",
    "os.environ['MAP_URL'] = url\n",
    "os.environ['METHOD'] = method\n",
    "\n",
    "\n",
    "# Download the alongtrack repository\n",
    "\n",
    "!wget $MAP_URL -O \"$METHOD.nc\" \n"
   ]
  },
  {
   "cell_type": "code",
   "execution_count": null,
   "id": "8fb9315a",
   "metadata": {},
   "outputs": [],
   "source": [
    "if os.path.isdir(dl_dir + '/data/sad'):\n",
    "    print('sad data already exist locally in ../data/')\n",
    "else: \n",
    "    print('Downloading sad data')\n",
    "    \n",
    "    # Download the alongtrack repository\n",
    "    !wget https://ige-meom-opendap.univ-grenoble-alpes.fr/thredds/fileServer/meomopendap/extract/MEOM/OCEAN_DATA_CHALLENGES/2023a_SSH_mapping_OSE/sad.tar.gz\n",
    "    \n",
    "    # Uncompress in ../data\n",
    "    !tar -xvf sad.tar.gz --directory $DATA_DIR\n",
    "    \n",
    "    # Remove compressed file\n",
    "    !rm -f sad.tar.gz "
   ]
  }
 ],
 "metadata": {
  "kernelspec": {
   "display_name": "Python 3 (ipykernel)",
   "language": "python",
   "name": "python3"
  },
  "language_info": {
   "codemirror_mode": {
    "name": "ipython",
    "version": 3
   },
   "file_extension": ".py",
   "mimetype": "text/x-python",
   "name": "python",
   "nbconvert_exporter": "python",
   "pygments_lexer": "ipython3",
   "version": "3.10.14"
  }
 },
 "nbformat": 4,
 "nbformat_minor": 5
}
